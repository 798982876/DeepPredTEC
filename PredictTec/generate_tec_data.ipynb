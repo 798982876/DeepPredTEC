{
 "cells": [
  {
   "cell_type": "code",
   "execution_count": 17,
   "metadata": {},
   "outputs": [
    {
     "name": "stdout",
     "output_type": "stream",
     "text": [
      "Populating the interactive namespace from numpy and matplotlib\n"
     ]
    }
   ],
   "source": [
    "import datetime\n",
    "import pandas\n",
    "import seaborn as sns\n",
    "from davitpy import pydarn\n",
    "from davitpy import gme\n",
    "import matplotlib.pyplot as plt\n",
    "from matplotlib.colors import ListedColormap\n",
    "from matplotlib.colors import Normalize\n",
    "from matplotlib import ticker\n",
    "from matplotlib.dates import date2num, DateFormatter, MinuteLocator\n",
    "from matplotlib.ticker import FuncFormatter, MaxNLocator\n",
    "import numpy as np\n",
    "import pickle\n",
    "%pylab inline"
   ]
  },
  {
   "cell_type": "code",
   "execution_count": 18,
   "metadata": {},
   "outputs": [],
   "source": [
    "# function to convert tec date, time string to python datetime obj\n",
    "def convert_to_datetime(row):\n",
    "    currDateStr = str( int( row[\"dateStr\"] ) )\n",
    "    if row[\"timeStr\"] < 10:\n",
    "        currTimeStr = \"000\" + str( int( row[\"timeStr\"] ) )\n",
    "    elif row[\"timeStr\"] < 100:\n",
    "        currTimeStr = \"00\" + str( int( row[\"timeStr\"] ) )\n",
    "    elif row[\"timeStr\"] < 1000:\n",
    "        currTimeStr = \"0\" + str( int( row[\"timeStr\"] ) )\n",
    "    else:\n",
    "        currTimeStr = str( int( row[\"timeStr\"] ) )  \n",
    "    #print datetime.datetime.strptime( currDateStr+ \":\" + currTimeStr, \"%Y%m%d:%H%M\" )\n",
    "    return datetime.datetime.strptime( currDateStr+ \":\" + currTimeStr, \"%Y%m%d:%H%M\" )"
   ]
  },
  {
   "cell_type": "code",
   "execution_count": 19,
   "metadata": {},
   "outputs": [],
   "source": [
    "#loading the TEC data into pandas dataframe\n",
    "#initializing the columns in the table\n",
    "inpColList = [ \"dateStr\", \"timeStr\", \"Mlat\", \"Mlon\", \"med_tec\", \"dlat\", \"dlon\" ]\n",
    "inpFile = \"/home/sneha/GSocProjectSpaceVT/dataset/med_filt_tec/tec-medFilt-20150101.txt\"\n",
    "medFiltTECDF = pandas.read_csv(inpFile, delim_whitespace=True, header=None, names=inpColList)\n",
    "medFiltTECDF[\"date\"] = medFiltTECDF.apply(convert_to_datetime, axis=1)"
   ]
  },
  {
   "cell_type": "code",
   "execution_count": 20,
   "metadata": {},
   "outputs": [
    {
     "name": "stdout",
     "output_type": "stream",
     "text": [
      "[250, 252, 254, 256, 258, 260, 262, 264, 266, 268, 270, 272, 274, 276, 278, 280, 282, 284, 286, 288, 290, 292, 294, 296, 298, 300, 302, 304, 306, 308, 310, 312, 314, 316, 318, 320, 322, 324, 326, 328, 330, 332, 334, 336, 338, 340, 342, 344, 346, 348, 350, 352, 354, 356, 358, 360, 0, 2, 4, 6, 8, 10, 12, 14, 16, 18, 20, 22, 24, 26, 28, 30, 32, 34]\n"
     ]
    }
   ],
   "source": [
    "#selecting the longitudes in the north-american sector\n",
    "longitudes = list(range(250, 362, 2)) + list(range(0, 35, 2))\n",
    "print longitudes\n",
    "#selecting only those rows whose longitudes is in the range of north-american sector\n",
    "selectedmedFiltTECDF = medFiltTECDF[medFiltTECDF[\"Mlon\"].isin(longitudes)]"
   ]
  },
  {
   "cell_type": "code",
   "execution_count": 21,
   "metadata": {},
   "outputs": [
    {
     "name": "stdout",
     "output_type": "stream",
     "text": [
      "(79, 73, 1)\n",
      "(79, 73, 1)\n",
      "(79, 73, 1)\n",
      "(79, 73, 1)\n",
      "(79, 73, 1)\n",
      "(5, 79, 73, 1)\n"
     ]
    }
   ],
   "source": [
    "#initializing the datetime variable which will be used for selecting values from the table\n",
    "tec_maps = []\n",
    "for j in range(10, 40, 5):\n",
    "    date = datetime.datetime.strptime( \"20150101\"+ \":\" + \"00\"+str(j), \"%Y%m%d:%H%M\" )\n",
    "    #selecting those rows where the datetime gives the time with the longitudes are in the given range and latitude = 11\n",
    "    check_tec_map = medFiltTECDF[(medFiltTECDF[\"Mlat\"]==11.00) & (medFiltTECDF[\"Mlon\"].isin(longitudes)) & (medFiltTECDF[\"date\"]==date)]\n",
    "    if(len(check_tec_map) >0):\n",
    "        #populating the TEC maps in a matrix format. The rows corresponds to latitudes and columns corresponds to longitudes\n",
    "        #Number of latitdues = (89-11) + 1 = 79, number of longitudes = (34-0)/2 + (360-250)/2 + 1 = 73. (number of longitudes is divided by 2 as the degree of longitudes is 2)\n",
    "        #values in the TEC maps are stored from (250 to 360) then (0 to 34)\n",
    "        tec_map = np.zeros((79,73,1))\n",
    "        longi = list(range(0, 35, 2))\n",
    "        for i in range(0, 79):\n",
    "            selected = medFiltTECDF[(medFiltTECDF[\"Mlat\"]==i+11) & (medFiltTECDF[\"Mlon\"].isin(longitudes)) & (medFiltTECDF[\"date\"]==date)]\n",
    "            tec = []\n",
    "            for index, row in selected.iterrows():\n",
    "                if(int(row[\"Mlon\"]) in longi):\n",
    "                    j = int(row[\"Mlon\"])/2 + 55\n",
    "                else:\n",
    "                    j = ((int(row[\"Mlon\"]) - 250)/2)\n",
    "                tec_map[i][j] = [float(row[\"med_tec\"])]\n",
    "        print tec_map.shape\n",
    "        tec_maps.append(tec_map)\n",
    "        \n",
    "tec_maps = np.asarray(tec_maps)\n",
    "print tec_maps.shape"
   ]
  },
  {
   "cell_type": "code",
   "execution_count": 22,
   "metadata": {},
   "outputs": [],
   "source": [
    "#saving the tec_maps in a pickle file\n",
    "f = open('tec_maps.pkl','w')\n",
    "pickle.dump(tec_maps, f)\n",
    "f.close()"
   ]
  }
 ],
 "metadata": {
  "kernelspec": {
   "display_name": "Python 2",
   "language": "python",
   "name": "python2"
  },
  "language_info": {
   "codemirror_mode": {
    "name": "ipython",
    "version": 2
   },
   "file_extension": ".py",
   "mimetype": "text/x-python",
   "name": "python",
   "nbconvert_exporter": "python",
   "pygments_lexer": "ipython2",
   "version": "2.7.12"
  }
 },
 "nbformat": 4,
 "nbformat_minor": 2
}
