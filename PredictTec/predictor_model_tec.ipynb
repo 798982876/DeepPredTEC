{
 "cells": [
  {
   "cell_type": "code",
   "execution_count": 47,
   "metadata": {},
   "outputs": [],
   "source": [
    "import numpy as np\n",
    "import pickle\n",
    "from keras.layers import Conv2D, MaxPooling2D, Input, Dense, Flatten\n",
    "from keras.models import Model"
   ]
  },
  {
   "cell_type": "code",
   "execution_count": 48,
   "metadata": {},
   "outputs": [],
   "source": [
    "f2 = open('tec_maps.pkl', 'r')\n",
    "tec_maps = pickle.load(f2)\n",
    "f2.close()"
   ]
  },
  {
   "cell_type": "code",
   "execution_count": 49,
   "metadata": {},
   "outputs": [],
   "source": [
    "inputs = Input(shape=(79, 73, 1))\n",
    "cnn_out_1 = Conv2D(filters=2, kernel_size=(1, 1), strides=(1,1), padding='same', activation='relu')(inputs)\n",
    "cnn_out_2 = Conv2D(filters=2, kernel_size=(1, 1), strides=(1,1), padding='same', activation='relu')(cnn_out_1)\n",
    "pool_out_1 = MaxPooling2D((3, 3), strides=(1, 1), padding='same')(cnn_out_2)\n",
    "\n",
    "cnn_out_3 = Conv2D(filters=2, kernel_size=(1, 1), strides=(1,1), padding='same', activation='relu')(pool_out_1)\n",
    "cnn_out_4 = Conv2D(filters=2, kernel_size=(1, 1), strides=(1,1), padding='same', activation='relu')(cnn_out_3)\n",
    "pool_out_2 = MaxPooling2D((3, 3), strides=(1, 1), padding='same')(cnn_out_4)\n",
    "flat = Flatten()(pool_out_2)\n",
    "\n",
    "out = Dense(1, activation='sigmoid')(flat)\n",
    "\n",
    "my_model = Model(inputs, out)\n",
    "my_model.compile(optimizer='rmsprop',\n",
    "              loss='binary_crossentropy',\n",
    "              metrics=['accuracy'])"
   ]
  },
  {
   "cell_type": "code",
   "execution_count": 51,
   "metadata": {},
   "outputs": [
    {
     "name": "stdout",
     "output_type": "stream",
     "text": [
      "_________________________________________________________________\n",
      "Layer (type)                 Output Shape              Param #   \n",
      "=================================================================\n",
      "input_6 (InputLayer)         (None, 79, 73, 1)         0         \n",
      "_________________________________________________________________\n",
      "conv2d_21 (Conv2D)           (None, 79, 73, 2)         4         \n",
      "_________________________________________________________________\n",
      "conv2d_22 (Conv2D)           (None, 79, 73, 2)         6         \n",
      "_________________________________________________________________\n",
      "max_pooling2d_11 (MaxPooling (None, 79, 73, 2)         0         \n",
      "_________________________________________________________________\n",
      "conv2d_23 (Conv2D)           (None, 79, 73, 2)         6         \n",
      "_________________________________________________________________\n",
      "conv2d_24 (Conv2D)           (None, 79, 73, 2)         6         \n",
      "_________________________________________________________________\n",
      "max_pooling2d_12 (MaxPooling (None, 79, 73, 2)         0         \n",
      "_________________________________________________________________\n",
      "flatten_6 (Flatten)          (None, 11534)             0         \n",
      "_________________________________________________________________\n",
      "dense_6 (Dense)              (None, 1)                 11535     \n",
      "=================================================================\n",
      "Total params: 11,557\n",
      "Trainable params: 11,557\n",
      "Non-trainable params: 0\n",
      "_________________________________________________________________\n",
      "None\n"
     ]
    }
   ],
   "source": [
    "#inp = np.random.random_sample((5, 9, 9, 3))\n",
    "split_train = int(len(tec_maps)*0.7)\n",
    "train_tec = tec_maps[ : split_train]\n",
    "train_labels = np.random.randint(low=0, high=2, size=(len(train_tec), 1)) \n",
    "test_tec = tec_maps[split_train : ]\n",
    "test_labels = np.random.randint(low=0, high=2, size=(len(test_tec), 1)) \n",
    "print my_model.summary()"
   ]
  },
  {
   "cell_type": "code",
   "execution_count": 52,
   "metadata": {},
   "outputs": [
    {
     "name": "stdout",
     "output_type": "stream",
     "text": [
      "Epoch 1/10\n",
      "3/3 [==============================] - 1s 175ms/step - loss: 0.6931 - acc: 0.0000e+00\n",
      "Epoch 2/10\n",
      "3/3 [==============================] - 0s 7ms/step - loss: 0.6916 - acc: 1.0000\n",
      "Epoch 3/10\n",
      "3/3 [==============================] - 0s 6ms/step - loss: 0.6904 - acc: 1.0000\n",
      "Epoch 4/10\n",
      "3/3 [==============================] - 0s 6ms/step - loss: 0.6895 - acc: 1.0000\n",
      "Epoch 5/10\n",
      "3/3 [==============================] - 0s 5ms/step - loss: 0.6886 - acc: 1.0000\n",
      "Epoch 6/10\n",
      "3/3 [==============================] - 0s 7ms/step - loss: 0.6878 - acc: 1.0000\n",
      "Epoch 7/10\n",
      "3/3 [==============================] - 0s 7ms/step - loss: 0.6871 - acc: 1.0000\n",
      "Epoch 8/10\n",
      "3/3 [==============================] - 0s 6ms/step - loss: 0.6864 - acc: 1.0000\n",
      "Epoch 9/10\n",
      "3/3 [==============================] - 0s 6ms/step - loss: 0.6858 - acc: 1.0000\n",
      "Epoch 10/10\n",
      "3/3 [==============================] - 0s 8ms/step - loss: 0.6851 - acc: 1.0000\n"
     ]
    },
    {
     "data": {
      "text/plain": [
       "<keras.callbacks.History at 0x7f5a900e6f90>"
      ]
     },
     "execution_count": 52,
     "metadata": {},
     "output_type": "execute_result"
    }
   ],
   "source": [
    "my_model.fit(train_tec, train_labels, epochs=10)"
   ]
  },
  {
   "cell_type": "code",
   "execution_count": 53,
   "metadata": {},
   "outputs": [
    {
     "name": "stdout",
     "output_type": "stream",
     "text": [
      "2/2 [==============================] - 0s 56ms/step\n",
      "[0.6931846141815186, 0.5]\n",
      "[[0.50432664]\n",
      " [0.50432664]]\n",
      "[[1]\n",
      " [0]]\n"
     ]
    }
   ],
   "source": [
    "loss_and_metrics = my_model.evaluate(test_tec, test_labels)\n",
    "predict_values = my_model.predict(test_tec)\n",
    "print loss_and_metrics\n",
    "print predict_values\n",
    "print test_labels"
   ]
  }
 ],
 "metadata": {
  "kernelspec": {
   "display_name": "Python 2",
   "language": "python",
   "name": "python2"
  },
  "language_info": {
   "codemirror_mode": {
    "name": "ipython",
    "version": 2
   },
   "file_extension": ".py",
   "mimetype": "text/x-python",
   "name": "python",
   "nbconvert_exporter": "python",
   "pygments_lexer": "ipython2",
   "version": "2.7.12"
  }
 },
 "nbformat": 4,
 "nbformat_minor": 2
}
