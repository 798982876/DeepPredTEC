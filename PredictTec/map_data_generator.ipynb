{
 "cells": [
  {
   "cell_type": "code",
   "execution_count": 18,
   "metadata": {},
   "outputs": [],
   "source": [
    "'''\n",
    "Sampling algorithm for creating closeness, period and trend sets of TEC map\n",
    "'''\n",
    "import pickle\n",
    "import numpy as np"
   ]
  },
  {
   "cell_type": "code",
   "execution_count": 44,
   "metadata": {},
   "outputs": [
    {
     "name": "stdout",
     "output_type": "stream",
     "text": [
      "(1000,)\n"
     ]
    }
   ],
   "source": [
    "#maps = pickle.load(open(\"all_tec_maps.pkl\", \"r\"))\n",
    "#creating dummy 1000 maps denoted by integers to check algorithm for now\n",
    "maps = np.random.randint(100, size=1000)\n",
    "print maps.shape"
   ]
  },
  {
   "cell_type": "code",
   "execution_count": 38,
   "metadata": {},
   "outputs": [],
   "source": [
    "#closeness is sampled 12 times every 5 mins, lookback = (12*5min = 1 hour)\n",
    "#freq 1 is 5mins\n",
    "closeness_freq = 1\n",
    "#size corresponds to the sample size\n",
    "closeness_size = 12\n",
    "#period is sampled 24 times every 1 hour (every 12th index), lookback = (24*12*5min = 1440min = 1day)\n",
    "period_freq = 12\n",
    "period_size = 24\n",
    "#trend is sampled 24 times every 3 hours (every 36th index), lookback = (8*36*5min = 1440min = 1day)\n",
    "trend_freq = 36\n",
    "trend_size = 8"
   ]
  },
  {
   "cell_type": "code",
   "execution_count": 46,
   "metadata": {},
   "outputs": [
    {
     "name": "stdout",
     "output_type": "stream",
     "text": [
      "288\n",
      "[287 286 285 284 283 282 281 280 279 278 277 276]\n",
      "[276 264 252 240 228 216 204 192 180 168 156 144 132 120 108  96  84  72\n",
      "  60  48  36  24  12   0]\n",
      "[252 216 180 144 108  72  36   0]\n"
     ]
    }
   ],
   "source": [
    "Y = []\n",
    "X = []\n",
    "thresh = max(max(closeness_freq * closeness_size, period_freq * period_size), trend_freq * trend_size)\n",
    "print thresh\n",
    "for i in range(thresh, maps.shape[0]):\n",
    "    #preparing indices to pick\n",
    "    closeness_lookback = closeness_size * closeness_freq\n",
    "    closeness_index = np.array(list(range(closeness_freq, closeness_lookback+1, closeness_freq))) * (-1) + i\n",
    "    period_lookback = period_size * period_freq\n",
    "    period_index = np.array(list(range(period_freq, period_lookback+1, period_freq))) * (-1) + i\n",
    "    trend_lookback = trend_size * trend_freq\n",
    "    trend_index = np.array(list(range(trend_freq, trend_lookback+1, trend_freq))) * (-1) + i\n",
    "    #using fancy indexing from numpy    \n",
    "    closeness = maps[closeness_index]\n",
    "    period = maps[period_index]\n",
    "    trend = maps[trend_index]\n",
    "    print closeness_index\n",
    "    print period_index\n",
    "    print trend_index\n",
    "    X.append([closeness, period, trend])\n",
    "    Y.append(maps[i])\n",
    "X = np.array(X)\n",
    "Y = np.array(Y)"
   ]
  },
  {
   "cell_type": "code",
   "execution_count": 42,
   "metadata": {},
   "outputs": [
    {
     "name": "stdout",
     "output_type": "stream",
     "text": [
      "(712, 3)\n",
      "(712,)\n"
     ]
    }
   ],
   "source": [
    "print X.shape\n",
    "print Y.shape"
   ]
  },
  {
   "cell_type": "code",
   "execution_count": 43,
   "metadata": {},
   "outputs": [],
   "source": [
    "pickle.dump(X, open(\"xdata.pkl\", \"wb\"))\n",
    "pickle.dump(Y, open(\"xdata.pkl\", \"wb\"))"
   ]
  }
 ],
 "metadata": {
  "kernelspec": {
   "display_name": "Python 2",
   "language": "python",
   "name": "python2"
  },
  "language_info": {
   "codemirror_mode": {
    "name": "ipython",
    "version": 2
   },
   "file_extension": ".py",
   "mimetype": "text/x-python",
   "name": "python",
   "nbconvert_exporter": "python",
   "pygments_lexer": "ipython2",
   "version": "2.7.12"
  }
 },
 "nbformat": 4,
 "nbformat_minor": 2
}
