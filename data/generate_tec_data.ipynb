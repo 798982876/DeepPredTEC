{
 "cells": [
  {
   "cell_type": "code",
   "execution_count": null,
   "metadata": {},
   "outputs": [],
   "source": [
    "import datetime\n",
    "import pandas\n",
    "import pickle\n",
    "#have to install this (pip install boltons)\n",
    "import boltons.setutils as bs\n",
    "%pylab inline"
   ]
  },
  {
   "cell_type": "code",
   "execution_count": null,
   "metadata": {},
   "outputs": [],
   "source": [
    "# function to convert tec date, time string to python datetime obj\n",
    "def convert_to_datetime(row):\n",
    "    currDateStr = str( int( row[\"dateStr\"] ) )\n",
    "    if row[\"timeStr\"] < 10:\n",
    "        currTimeStr = \"000\" + str( int( row[\"timeStr\"] ) )\n",
    "    elif row[\"timeStr\"] < 100:\n",
    "        currTimeStr = \"00\" + str( int( row[\"timeStr\"] ) )\n",
    "    elif row[\"timeStr\"] < 1000:\n",
    "        currTimeStr = \"0\" + str( int( row[\"timeStr\"] ) )\n",
    "    else:\n",
    "        currTimeStr = str( int( row[\"timeStr\"] ) )  \n",
    "    #print datetime.datetime.strptime( currDateStr+ \":\" + currTimeStr, \"%Y%m%d:%H%M\" )\n",
    "    return datetime.datetime.strptime( currDateStr+ \":\" + currTimeStr, \"%Y%m%d:%H%M\" )"
   ]
  },
  {
   "cell_type": "code",
   "execution_count": null,
   "metadata": {},
   "outputs": [],
   "source": [
    "#loading the TEC data into pandas dataframe\n",
    "#initializing the columns in the table\n",
    "inpColList = [ \"dateStr\", \"timeStr\", \"Mlat\", \"Mlon\", \"med_tec\", \"dlat\", \"dlon\" ]\n",
    "inpFile = \"/home/sneha/GSoC_2018/SpaceVT/dataset/med_filt_tec/tec-medFilt-20150107.txt\"\n",
    "medFiltTECDF = pandas.read_csv(inpFile, delim_whitespace=True, header=None, names=inpColList)\n",
    "medFiltTECDF[\"date\"] = medFiltTECDF.apply(convert_to_datetime, axis=1)"
   ]
  },
  {
   "cell_type": "code",
   "execution_count": null,
   "metadata": {},
   "outputs": [],
   "source": [
    "#selecting the longitudes in the north-american sector\n",
    "longitudes = list(range(250, 362, 2)) + list(range(0, 35, 2))\n",
    "print longitudes\n",
    "#selecting only those rows whose longitudes is in the range of north-american sector\n",
    "selectedmedFiltTECDF = medFiltTECDF[medFiltTECDF[\"Mlon\"].isin(longitudes)]\n",
    "time_date = list(medFiltTECDF[\"date\"])"
   ]
  },
  {
   "cell_type": "code",
   "execution_count": null,
   "metadata": {},
   "outputs": [],
   "source": [
    "times = list(bs.IndexedSet([date for date in time_date]))"
   ]
  },
  {
   "cell_type": "code",
   "execution_count": null,
   "metadata": {},
   "outputs": [],
   "source": [
    "print len(times)"
   ]
  },
  {
   "cell_type": "code",
   "execution_count": null,
   "metadata": {},
   "outputs": [],
   "source": [
    "#d = times[14]\n",
    "#print d\n",
    "#print type(d)\n",
    "#selected = medFiltTECDF[(medFiltTECDF[\"Mlat\"]==12) & (medFiltTECDF[\"Mlon\"].isin(longitudes)) & (medFiltTECDF[\"date\"]==d)]\n",
    "#print selected            "
   ]
  },
  {
   "cell_type": "code",
   "execution_count": null,
   "metadata": {},
   "outputs": [],
   "source": [
    "#initializing the datetime variable which will be used for selecting values from the table\n",
    "tec_maps = []\n",
    "for j in times:\n",
    "    date = j\n",
    "    print date\n",
    "    #selecting those rows where the datetime gives the time with the longitudes are in the given range and latitude = 11\n",
    "    check_tec_map = medFiltTECDF[(medFiltTECDF[\"date\"]==date)]\n",
    "    if(len(check_tec_map) >0):\n",
    "        #populating the TEC maps in a matrix format. The rows corresponds to latitudes and columns corresponds to longitudes\n",
    "        #Number of latitdues = (89-11) + 1 = 79, number of longitudes = (34-0)/2 + (360-250)/2 + 1 = 73. (number of longitudes is divided by 2 as the degree of longitudes is 2)\n",
    "        #values in the TEC maps are stored from (250 to 360) then (0 to 34)\n",
    "        tec_map = np.zeros((75,73,1))\n",
    "        longi = list(range(0, 35, 2))\n",
    "        for i in range(0, 75):\n",
    "            selected = medFiltTECDF[(medFiltTECDF[\"Mlat\"]==(i+15)) & (medFiltTECDF[\"Mlon\"].isin(longitudes)) & (medFiltTECDF[\"date\"]==date)]\n",
    "            tec = []\n",
    "            for index, row in selected.iterrows():\n",
    "                if(int(row[\"Mlon\"]) in longi):\n",
    "                    j = int(row[\"Mlon\"])/2 + 55\n",
    "                else:\n",
    "                    j = ((int(row[\"Mlon\"]) - 250)/2)\n",
    "                tec_map[i][j] = [float(row[\"med_tec\"])]\n",
    "        print tec_map.shape\n",
    "        tec_maps.append(tec_map)\n",
    "        \n",
    "tec_maps = np.asarray(tec_maps)\n",
    "print tec_maps.shape"
   ]
  },
  {
   "cell_type": "code",
   "execution_count": null,
   "metadata": {},
   "outputs": [],
   "source": [
    "#saving the tec_maps in a pickle file\n",
    "f = open('tec_maps7.pkl','w')\n",
    "pickle.dump(tec_maps, f)\n",
    "f.close()\n",
    "\n",
    "f=open('time_date7.pkl','w')\n",
    "pickle.dump(times, f)\n",
    "f.close()"
   ]
  }
 ],
 "metadata": {
  "kernelspec": {
   "display_name": "Python 2",
   "language": "python",
   "name": "python2"
  },
  "language_info": {
   "codemirror_mode": {
    "name": "ipython",
    "version": 2
   },
   "file_extension": ".py",
   "mimetype": "text/x-python",
   "name": "python",
   "nbconvert_exporter": "python",
   "pygments_lexer": "ipython2",
   "version": "2.7.12"
  }
 },
 "nbformat": 4,
 "nbformat_minor": 2
}
