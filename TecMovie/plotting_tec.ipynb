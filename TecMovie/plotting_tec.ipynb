{
 "cells": [
  {
   "cell_type": "code",
   "execution_count": 2,
   "metadata": {
    "scrolled": true
   },
   "outputs": [
    {
     "name": "stdout",
     "output_type": "stream",
     "text": [
      "Populating the interactive namespace from numpy and matplotlib\n"
     ]
    }
   ],
   "source": [
    "import datetime\n",
    "import pandas\n",
    "import seaborn as sns\n",
    "from davitpy import pydarn\n",
    "from davitpy import gme\n",
    "import matplotlib.pyplot as plt\n",
    "from matplotlib.colors import ListedColormap\n",
    "from matplotlib.colors import Normalize\n",
    "from matplotlib import ticker\n",
    "from matplotlib.dates import date2num, DateFormatter, MinuteLocator\n",
    "from matplotlib.ticker import FuncFormatter, MaxNLocator\n",
    "import numpy as np\n",
    "%pylab inline"
   ]
  },
  {
   "cell_type": "markdown",
   "metadata": {},
   "source": [
    "# Plotting TEC Maps"
   ]
  },
  {
   "cell_type": "markdown",
   "metadata": {},
   "source": [
    "The format of the tec-medFilt-YYYYMMDD.txt is as follows:\n",
    "1. First column is date in YYYYMMDD format\n",
    "2. Second column is time in hhmm format where hh is hour and mm is minutes. If the value is 10 then it means 0010 (00:10 mins).\n",
    "3. Third column represents the magnetic latitude values\n",
    "4. Fourth column represents the magnetic longitude values\n",
    "5. Fifth column represents the actual TEC (total electron content) values\n",
    "6. Sixth and seventh columns represent the degree of latitude and longitude"
   ]
  },
  {
   "cell_type": "code",
   "execution_count": 3,
   "metadata": {},
   "outputs": [],
   "source": [
    "# function to convert tec date, time string to python datetime obj\n",
    "def convert_to_datetime(row):\n",
    "    currDateStr = str( int( row[\"dateStr\"] ) )\n",
    "    if row[\"timeStr\"] < 10:\n",
    "        currTimeStr = \"000\" + str( int( row[\"timeStr\"] ) )\n",
    "    elif row[\"timeStr\"] < 100:\n",
    "        currTimeStr = \"00\" + str( int( row[\"timeStr\"] ) )\n",
    "    elif row[\"timeStr\"] < 1000:\n",
    "        currTimeStr = \"0\" + str( int( row[\"timeStr\"] ) )\n",
    "    else:\n",
    "        currTimeStr = str( int( row[\"timeStr\"] ) )  \n",
    "    #print datetime.datetime.strptime( currDateStr+ \":\" + currTimeStr, \"%Y%m%d:%H%M\" )\n",
    "    return datetime.datetime.strptime( currDateStr+ \":\" + currTimeStr, \"%Y%m%d:%H%M\" )"
   ]
  },
  {
   "cell_type": "code",
   "execution_count": 4,
   "metadata": {},
   "outputs": [],
   "source": [
    "#loading the TEC data into pandas dataframe\n",
    "#initializing the columns in the table\n",
    "inpColList = [ \"dateStr\", \"timeStr\", \"Mlat\", \"Mlon\", \"med_tec\", \"dlat\", \"dlon\" ]\n",
    "inpFile = \"/home/sneha/GSocProjectSpaceVT/dataset/med_filt_tec/tec-medFilt-20150101.txt\"\n",
    "medFiltTECDF = pandas.read_csv(inpFile, delim_whitespace=True, header=None, names=inpColList)\n",
    "medFiltTECDF[\"date\"] = medFiltTECDF.apply(convert_to_datetime, axis=1)"
   ]
  },
  {
   "cell_type": "code",
   "execution_count": 5,
   "metadata": {},
   "outputs": [
    {
     "name": "stdout",
     "output_type": "stream",
     "text": [
      "[250, 252, 254, 256, 258, 260, 262, 264, 266, 268, 270, 272, 274, 276, 278, 280, 282, 284, 286, 288, 290, 292, 294, 296, 298, 300, 302, 304, 306, 308, 310, 312, 314, 316, 318, 320, 322, 324, 326, 328, 330, 332, 334, 336, 338, 340, 342, 344, 346, 348, 350, 352, 354, 356, 358, 360, 0, 2, 4, 6, 8, 10, 12, 14, 16, 18, 20, 22, 24, 26, 28, 30, 32, 34]\n",
      "(897994, 8)\n",
      "(2038395, 8)\n"
     ]
    }
   ],
   "source": [
    "#selecting the longitudes in the north-american sector\n",
    "longitudes = list(range(250, 362, 2)) + list(range(0, 35, 2))\n",
    "print longitudes\n",
    "#selecting only those rows whose longitudes is in the range of north-american sector\n",
    "selectedmedFiltTECDF = medFiltTECDF[medFiltTECDF[\"Mlon\"].isin(longitudes)]\n",
    "#printing the shape of the selected rows\n",
    "print selectedmedFiltTECDF.shape\n",
    "#total shape of the TEC file\n",
    "print medFiltTECDF.shape"
   ]
  },
  {
   "cell_type": "code",
   "execution_count": 65,
   "metadata": {},
   "outputs": [
    {
     "name": "stdout",
     "output_type": "stream",
     "text": [
      "          dateStr  timeStr  Mlat   Mlon  med_tec  dlat  dlon  \\\n",
      "1957385  20150101     2305  11.0    0.0     38.3   1.0   2.0   \n",
      "1957386  20150101     2305  11.0    2.0     38.8   1.0   2.0   \n",
      "1957387  20150101     2305  11.0    4.0     38.3   1.0   2.0   \n",
      "1957388  20150101     2305  11.0    6.0     36.8   1.0   2.0   \n",
      "1957389  20150101     2305  11.0    8.0     32.7   1.0   2.0   \n",
      "1957390  20150101     2305  11.0   10.0     30.7   1.0   2.0   \n",
      "1957391  20150101     2305  11.0   12.0     25.3   1.0   2.0   \n",
      "1957392  20150101     2305  11.0   14.0     22.5   1.0   2.0   \n",
      "1957393  20150101     2305  11.0   16.0     19.2   1.0   2.0   \n",
      "1957394  20150101     2305  11.0   18.0     17.5   1.0   2.0   \n",
      "1957395  20150101     2305  11.0   20.0     17.0   1.0   2.0   \n",
      "1957396  20150101     2305  11.0   22.0     17.0   1.0   2.0   \n",
      "1957397  20150101     2305  11.0   24.0     16.1   1.0   2.0   \n",
      "1957398  20150101     2305  11.0   26.0     15.0   1.0   2.0   \n",
      "1957399  20150101     2305  11.0   28.0     14.7   1.0   2.0   \n",
      "1957400  20150101     2305  11.0   30.0     12.2   1.0   2.0   \n",
      "1957401  20150101     2305  11.0   32.0     11.1   1.0   2.0   \n",
      "1957402  20150101     2305  11.0   34.0     11.1   1.0   2.0   \n",
      "1957458  20150101     2305  11.0  336.0     41.3   1.0   2.0   \n",
      "1957459  20150101     2305  11.0  338.0     41.3   1.0   2.0   \n",
      "1957460  20150101     2305  11.0  344.0     39.2   1.0   2.0   \n",
      "1957461  20150101     2305  11.0  346.0     45.4   1.0   2.0   \n",
      "1957462  20150101     2305  11.0  348.0     45.4   1.0   2.0   \n",
      "1957463  20150101     2305  11.0  350.0     45.8   1.0   2.0   \n",
      "1957464  20150101     2305  11.0  352.0     42.5   1.0   2.0   \n",
      "1957465  20150101     2305  11.0  354.0     40.2   1.0   2.0   \n",
      "1957466  20150101     2305  11.0  356.0     38.4   1.0   2.0   \n",
      "1957467  20150101     2305  11.0  358.0     37.6   1.0   2.0   \n",
      "\n",
      "                       date  \n",
      "1957385 2015-01-01 23:05:00  \n",
      "1957386 2015-01-01 23:05:00  \n",
      "1957387 2015-01-01 23:05:00  \n",
      "1957388 2015-01-01 23:05:00  \n",
      "1957389 2015-01-01 23:05:00  \n",
      "1957390 2015-01-01 23:05:00  \n",
      "1957391 2015-01-01 23:05:00  \n",
      "1957392 2015-01-01 23:05:00  \n",
      "1957393 2015-01-01 23:05:00  \n",
      "1957394 2015-01-01 23:05:00  \n",
      "1957395 2015-01-01 23:05:00  \n",
      "1957396 2015-01-01 23:05:00  \n",
      "1957397 2015-01-01 23:05:00  \n",
      "1957398 2015-01-01 23:05:00  \n",
      "1957399 2015-01-01 23:05:00  \n",
      "1957400 2015-01-01 23:05:00  \n",
      "1957401 2015-01-01 23:05:00  \n",
      "1957402 2015-01-01 23:05:00  \n",
      "1957458 2015-01-01 23:05:00  \n",
      "1957459 2015-01-01 23:05:00  \n",
      "1957460 2015-01-01 23:05:00  \n",
      "1957461 2015-01-01 23:05:00  \n",
      "1957462 2015-01-01 23:05:00  \n",
      "1957463 2015-01-01 23:05:00  \n",
      "1957464 2015-01-01 23:05:00  \n",
      "1957465 2015-01-01 23:05:00  \n",
      "1957466 2015-01-01 23:05:00  \n",
      "1957467 2015-01-01 23:05:00  \n"
     ]
    }
   ],
   "source": [
    "#initializing the datetime variable which will be used for selecting values from the table\n",
    "date = datetime.datetime.strptime( \"20150101\"+ \":\" + \"235\", \"%Y%m%d:%H%M\" )\n",
    "#selecting those rows where the datetime gives the time with the longitudes are in the given range and latitude = 11\n",
    "print medFiltTECDF[(medFiltTECDF[\"Mlat\"]==11.00) & (medFiltTECDF[\"Mlon\"].isin(longitudes)) & (medFiltTECDF[\"date\"]==date)]"
   ]
  },
  {
   "cell_type": "code",
   "execution_count": 66,
   "metadata": {},
   "outputs": [
    {
     "name": "stdout",
     "output_type": "stream",
     "text": [
      "(79, 73)\n"
     ]
    }
   ],
   "source": [
    "#populating the TEC maps in a matrix format. The rows corresponds to latitudes and columns corresponds to longitudes\n",
    "#Number of latitdues = (89-11) + 1 = 79, number of longitudes = (34-0)/2 + (360-250)/2 + 1 = 73. (number of longitudes is divided by 2 as the degree of longitudes is 2)\n",
    "#values in the TEC maps are stored from (250 to 360) then (0 to 34)\n",
    "tec2d = np.zeros((79,73))\n",
    "longi = list(range(0, 35, 2))\n",
    "for i in range(0, 79):\n",
    "    selected = medFiltTECDF[(medFiltTECDF[\"Mlat\"]==i+11) & (medFiltTECDF[\"Mlon\"].isin(longitudes)) & (medFiltTECDF[\"date\"]==date)]\n",
    "    tec = []\n",
    "    for index, row in selected.iterrows():\n",
    "        if(int(row[\"Mlon\"]) in longi):\n",
    "            j = int(row[\"Mlon\"])/2 + 55\n",
    "        else:\n",
    "            j = ((int(row[\"Mlon\"]) - 250)/2)\n",
    "        tec2d[i][j] = float(row[\"med_tec\"])\n",
    "print tec2d.shape        "
   ]
  },
  {
   "cell_type": "code",
   "execution_count": 67,
   "metadata": {},
   "outputs": [
    {
     "data": {
      "image/png": "[encoded data removed]",
      "text/plain": [
       "<Figure size 1008x720 with 1 Axes>"
      ]
     },
     "metadata": {},
     "output_type": "display_data"
    }
   ],
   "source": [
    "#plotting the TEC map \n",
    "fig, ax = plt.subplots(1,1, figsize=(14, 10))\n",
    "x = list(range(225, 360, 25)) + list(range(0, 35, 15)) \n",
    "y = list(range(1, 90, 10))\n",
    "ax.set_xticklabels(tuple(x))\n",
    "ax.set_yticklabels(y)\n",
    "plt.imshow(tec2d, cmap='jet', interpolation='nearest')\n",
    "fig.savefig('0235.png', dpi=fig.dpi)\n",
    "plt.show()"
   ]
  },
  {
   "cell_type": "code",
   "execution_count": 143,
   "metadata": {
    "scrolled": true
   },
   "outputs": [
    {
     "data": {
      "text/plain": [
       "256"
      ]
     },
     "execution_count": 143,
     "metadata": {},
     "output_type": "execute_result"
    }
   ],
   "source": [
    "#command to take the plots and convert it into a movie\n",
    "import os\n",
    "os.system(\"ffmpeg -r 1 -i img%01d.png -vcodec mpeg4 -y movie.mp4\")"
   ]
  },
  {
   "cell_type": "markdown",
   "metadata": {},
   "source": [
    "# Exogenous variables"
   ]
  },
  {
   "cell_type": "markdown",
   "metadata": {},
   "source": [
    "The set of exogenous variables that we are going to use are: AU-Index, AL-index, Sym-H index, AsyH-index, OMNI IMF Bz, By, Vx, np, f10.7, dipole tilt"
   ]
  }
 ],
 "metadata": {
  "kernelspec": {
   "display_name": "Python 2",
   "language": "python",
   "name": "python2"
  },
  "language_info": {
   "codemirror_mode": {
    "name": "ipython",
    "version": 2
   },
   "file_extension": ".py",
   "mimetype": "text/x-python",
   "name": "python",
   "nbconvert_exporter": "python",
   "pygments_lexer": "ipython2",
   "version": "2.7.12"
  }
 },
 "nbformat": 4,
 "nbformat_minor": 2
}
