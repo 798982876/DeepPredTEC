{
 "cells": [
  {
   "cell_type": "code",
   "execution_count": 126,
   "metadata": {
    "scrolled": true
   },
   "outputs": [
    {
     "name": "stdout",
     "output_type": "stream",
     "text": [
      "Populating the interactive namespace from numpy and matplotlib\n"
     ]
    }
   ],
   "source": [
    "import datetime\n",
    "import pandas\n",
    "import seaborn as sns\n",
    "from davitpy import pydarn\n",
    "from davitpy import gme\n",
    "import matplotlib.pyplot as plt\n",
    "from matplotlib.colors import ListedColormap\n",
    "from matplotlib.colors import Normalize\n",
    "from matplotlib import ticker\n",
    "from matplotlib.dates import date2num, DateFormatter, MinuteLocator\n",
    "from matplotlib.ticker import FuncFormatter, MaxNLocator\n",
    "import numpy as np\n",
    "from scipy.signal import medfilt2d\n",
    "%pylab inline"
   ]
  },
  {
   "cell_type": "markdown",
   "metadata": {},
   "source": [
    "# Plotting TEC Maps"
   ]
  },
  {
   "cell_type": "markdown",
   "metadata": {},
   "source": [
    "The format of the tec-medFilt-YYYYMMDD.txt is as follows:\n",
    "1. First column is date in YYYYMMDD format\n",
    "2. Second column is time in hhmm format where hh is hour and mm is minutes. If the value is 10 then it means 0010 (00:10 mins).\n",
    "3. Third column represents the magnetic latitude values\n",
    "4. Fourth column represents the magnetic longitude values\n",
    "5. Fifth column represents the actual TEC (total electron content) values\n",
    "6. Sixth and seventh columns represent the degree of latitude and longitude"
   ]
  },
  {
   "cell_type": "code",
   "execution_count": 2,
   "metadata": {},
   "outputs": [],
   "source": [
    "# function to convert tec date, time string to python datetime obj\n",
    "def convert_to_datetime(row):\n",
    "    currDateStr = str( int( row[\"dateStr\"] ) )\n",
    "    if row[\"timeStr\"] < 10:\n",
    "        currTimeStr = \"000\" + str( int( row[\"timeStr\"] ) )\n",
    "    elif row[\"timeStr\"] < 100:\n",
    "        currTimeStr = \"00\" + str( int( row[\"timeStr\"] ) )\n",
    "    elif row[\"timeStr\"] < 1000:\n",
    "        currTimeStr = \"0\" + str( int( row[\"timeStr\"] ) )\n",
    "    else:\n",
    "        currTimeStr = str( int( row[\"timeStr\"] ) )  \n",
    "    #print datetime.datetime.strptime( currDateStr+ \":\" + currTimeStr, \"%Y%m%d:%H%M\" )\n",
    "    return datetime.datetime.strptime( currDateStr+ \":\" + currTimeStr, \"%Y%m%d:%H%M\" )"
   ]
  },
  {
   "cell_type": "code",
   "execution_count": 4,
   "metadata": {},
   "outputs": [],
   "source": [
    "#loading the TEC data into pandas dataframe\n",
    "#initializing the columns in the table\n",
    "inpColList = [ \"dateStr\", \"timeStr\", \"Mlat\", \"Mlon\", \"med_tec\", \"dlat\", \"dlon\" ]\n",
    "inpFile = \"/home/sneha/GSoC_2018/SpaceVT/dataset/med_filt_tec/tec-medFilt-20150101.txt\"\n",
    "medFiltTECDF = pandas.read_csv(inpFile, delim_whitespace=True, header=None, names=inpColList)\n",
    "medFiltTECDF[\"date\"] = medFiltTECDF.apply(convert_to_datetime, axis=1)"
   ]
  },
  {
   "cell_type": "code",
   "execution_count": 5,
   "metadata": {},
   "outputs": [
    {
     "name": "stdout",
     "output_type": "stream",
     "text": [
      "[250, 252, 254, 256, 258, 260, 262, 264, 266, 268, 270, 272, 274, 276, 278, 280, 282, 284, 286, 288, 290, 292, 294, 296, 298, 300, 302, 304, 306, 308, 310, 312, 314, 316, 318, 320, 322, 324, 326, 328, 330, 332, 334, 336, 338, 340, 342, 344, 346, 348, 350, 352, 354, 356, 358, 360, 0, 2, 4, 6, 8, 10, 12, 14, 16, 18, 20, 22, 24, 26, 28, 30, 32, 34]\n",
      "(897994, 8)\n",
      "(2038395, 8)\n"
     ]
    }
   ],
   "source": [
    "#selecting the longitudes in the north-american sector\n",
    "longitudes = list(range(250, 362, 2)) + list(range(0, 35, 2))\n",
    "print longitudes\n",
    "#selecting only those rows whose longitudes is in the range of north-american sector\n",
    "selectedmedFiltTECDF = medFiltTECDF[medFiltTECDF[\"Mlon\"].isin(longitudes)]\n",
    "#printing the shape of the selected rows\n",
    "print selectedmedFiltTECDF.shape\n",
    "#total shape of the TEC file\n",
    "print medFiltTECDF.shape"
   ]
  },
  {
   "cell_type": "code",
   "execution_count": 89,
   "metadata": {},
   "outputs": [
    {
     "name": "stdout",
     "output_type": "stream",
     "text": [
      "          dateStr  timeStr  Mlat   Mlon  med_tec  dlat  dlon  \\\n",
      "1948060  20150101     2300  11.0    0.0     39.3   1.0   2.0   \n",
      "1948061  20150101     2300  11.0    2.0     39.6   1.0   2.0   \n",
      "1948062  20150101     2300  11.0    4.0     39.4   1.0   2.0   \n",
      "1948063  20150101     2300  11.0    6.0     38.3   1.0   2.0   \n",
      "1948064  20150101     2300  11.0    8.0     34.6   1.0   2.0   \n",
      "1948065  20150101     2300  11.0   10.0     31.5   1.0   2.0   \n",
      "1948066  20150101     2300  11.0   12.0     26.9   1.0   2.0   \n",
      "1948067  20150101     2300  11.0   14.0     23.9   1.0   2.0   \n",
      "1948068  20150101     2300  11.0   16.0     20.7   1.0   2.0   \n",
      "1948069  20150101     2300  11.0   18.0     19.3   1.0   2.0   \n",
      "1948070  20150101     2300  11.0   20.0     19.1   1.0   2.0   \n",
      "1948071  20150101     2300  11.0   22.0     19.8   1.0   2.0   \n",
      "1948072  20150101     2300  11.0   24.0     16.6   1.0   2.0   \n",
      "1948073  20150101     2300  11.0   26.0     15.6   1.0   2.0   \n",
      "1948074  20150101     2300  11.0   28.0     15.5   1.0   2.0   \n",
      "1948075  20150101     2300  11.0   30.0     14.7   1.0   2.0   \n",
      "1948076  20150101     2300  11.0   32.0     12.2   1.0   2.0   \n",
      "1948077  20150101     2300  11.0   34.0     14.3   1.0   2.0   \n",
      "1948134  20150101     2300  11.0  336.0     41.4   1.0   2.0   \n",
      "1948135  20150101     2300  11.0  344.0     39.3   1.0   2.0   \n",
      "1948136  20150101     2300  11.0  346.0     40.7   1.0   2.0   \n",
      "1948137  20150101     2300  11.0  348.0     45.6   1.0   2.0   \n",
      "1948138  20150101     2300  11.0  350.0     45.8   1.0   2.0   \n",
      "1948139  20150101     2300  11.0  352.0     42.5   1.0   2.0   \n",
      "1948140  20150101     2300  11.0  354.0     40.9   1.0   2.0   \n",
      "1948141  20150101     2300  11.0  356.0     40.0   1.0   2.0   \n",
      "1948142  20150101     2300  11.0  358.0     39.2   1.0   2.0   \n",
      "\n",
      "                       date  \n",
      "1948060 2015-01-01 23:00:00  \n",
      "1948061 2015-01-01 23:00:00  \n",
      "1948062 2015-01-01 23:00:00  \n",
      "1948063 2015-01-01 23:00:00  \n",
      "1948064 2015-01-01 23:00:00  \n",
      "1948065 2015-01-01 23:00:00  \n",
      "1948066 2015-01-01 23:00:00  \n",
      "1948067 2015-01-01 23:00:00  \n",
      "1948068 2015-01-01 23:00:00  \n",
      "1948069 2015-01-01 23:00:00  \n",
      "1948070 2015-01-01 23:00:00  \n",
      "1948071 2015-01-01 23:00:00  \n",
      "1948072 2015-01-01 23:00:00  \n",
      "1948073 2015-01-01 23:00:00  \n",
      "1948074 2015-01-01 23:00:00  \n",
      "1948075 2015-01-01 23:00:00  \n",
      "1948076 2015-01-01 23:00:00  \n",
      "1948077 2015-01-01 23:00:00  \n",
      "1948134 2015-01-01 23:00:00  \n",
      "1948135 2015-01-01 23:00:00  \n",
      "1948136 2015-01-01 23:00:00  \n",
      "1948137 2015-01-01 23:00:00  \n",
      "1948138 2015-01-01 23:00:00  \n",
      "1948139 2015-01-01 23:00:00  \n",
      "1948140 2015-01-01 23:00:00  \n",
      "1948141 2015-01-01 23:00:00  \n",
      "1948142 2015-01-01 23:00:00  \n"
     ]
    }
   ],
   "source": [
    "date_val = [\"15\", \"25\", \"30\", \"45\", \"55\", \"60\", \"75\", \"85\", \"90\", \"105\", \"115\", \"120\", \"135\", \"145\", \"150\", \"165\", \"175\", \"180\", \"195\", \"200\", \"210\", \"225\", \"230\"]\n",
    "#initializing the datetime variable which will be used for selecting values from the table\n",
    "date = datetime.datetime.strptime( \"20150101\"+ \":\" + \"230\", \"%Y%m%d:%H%M\" )\n",
    "#selecting those rows where the datetime gives the time with the longitudes are in the given range and latitude = 11\n",
    "print selectedmedFiltTECDF[(medFiltTECDF[\"Mlat\"]==11.00) & (medFiltTECDF[\"date\"]==date)]"
   ]
  },
  {
   "cell_type": "code",
   "execution_count": 146,
   "metadata": {},
   "outputs": [
    {
     "name": "stdout",
     "output_type": "stream",
     "text": [
      "2015-01-01 01:05:00\n",
      "2015-01-01 02:05:00\n",
      "2015-01-01 03:00:00\n",
      "2015-01-01 04:05:00\n",
      "2015-01-01 05:05:00\n",
      "2015-01-01 06:00:00\n",
      "2015-01-01 07:05:00\n",
      "2015-01-01 08:05:00\n",
      "2015-01-01 09:00:00\n",
      "2015-01-01 10:05:00\n",
      "2015-01-01 11:05:00\n",
      "2015-01-01 12:00:00\n",
      "2015-01-01 13:05:00\n",
      "2015-01-01 14:05:00\n",
      "2015-01-01 15:00:00\n",
      "2015-01-01 16:05:00\n",
      "2015-01-01 17:05:00\n",
      "2015-01-01 18:00:00\n",
      "2015-01-01 19:05:00\n",
      "2015-01-01 20:00:00\n",
      "2015-01-01 21:00:00\n",
      "2015-01-01 22:05:00\n",
      "2015-01-01 23:00:00\n"
     ]
    }
   ],
   "source": [
    "#populating the TEC maps in a matrix format. The rows corresponds to latitudes and columns corresponds to longitudes\n",
    "#Number of latitdues = (89-11) + 1 = 79, number of longitudes = (34-0)/2 + (360-250)/2 + 1 = 73. (number of longitudes is divided by 2 as the degree of longitudes is 2)\n",
    "#values in the TEC maps are stored from (250 to 360) then (0 to 34)\n",
    "longi = list(range(0, 35, 2))\n",
    "tec_maps = []\n",
    "for j in date_val:\n",
    "    date = datetime.datetime.strptime( \"20150101\"+ \":\" + j, \"%Y%m%d:%H%M\" )\n",
    "    print date\n",
    "    #selecting those rows where the datetime gives the time with the longitudes are in the given range and latitude = 11\n",
    "    check_tec_map = medFiltTECDF[(medFiltTECDF[\"date\"]==date)]\n",
    "    if(len(check_tec_map) > 0):\n",
    "        tec2d = np.empty((75,73))\n",
    "        tec2d.fill(-1)\n",
    "        for i in range(0, 75):\n",
    "            selected = selectedmedFiltTECDF[(medFiltTECDF[\"Mlat\"]==i+15) & (medFiltTECDF[\"date\"]==date)]\n",
    "            tec = []\n",
    "            for index, row in selected.iterrows():\n",
    "                if(int(row[\"Mlon\"]) in longi):\n",
    "                    j = int(row[\"Mlon\"])/2 + 55\n",
    "                else:\n",
    "                    j = ((int(row[\"Mlon\"]) - 250)/2)\n",
    "                tec2d[i][j] = float(row[\"med_tec\"])\n",
    "        #print tec2d.shape         \n",
    "        tec_maps.append(tec2d)      "
   ]
  },
  {
   "cell_type": "code",
   "execution_count": 147,
   "metadata": {},
   "outputs": [
    {
     "name": "stdout",
     "output_type": "stream",
     "text": [
      "(23, 75, 73)\n",
      "0.0\n",
      "92.9\n"
     ]
    }
   ],
   "source": [
    "tec_maps = np.array(tec_maps)\n",
    "print tec_maps.shape  \n",
    "#masking the -1 value in the tec2d\n",
    "tec_maps_masked = np.ma.masked_where(tec_maps <= -1, tec_maps)\n",
    "min_val = np.min(tec_maps_masked)\n",
    "max_val = np.max(tec_maps_masked)\n",
    "print np.min(tec_maps_masked)\n",
    "print np.max(tec_maps_masked)"
   ]
  },
  {
   "cell_type": "code",
   "execution_count": 148,
   "metadata": {},
   "outputs": [
    {
     "data": {
      "image/png": "[encoded data removed]",
      "text/plain": [
       "<Figure size 1008x720 with 2 Axes>"
      ]
     },
     "metadata": {},
     "output_type": "display_data"
    }
   ],
   "source": [
    "#Flipping the matrix to get the low latitude value at the bottom\n",
    "tec2d_inv = np.flipud(tec_maps_masked[0])\n",
    "#plotting the TEC map \n",
    "fig, ax = plt.subplots(1,1, figsize=(14, 10))\n",
    "x = list(range(225, 360, 25)) + list(range(0, 35, 15)) \n",
    "y = list(range(15, 100, 10))\n",
    "ax.set_xticklabels(tuple(x))\n",
    "ax.set_yticklabels(y[::-1])\n",
    "plt.imshow(tec2d_inv, cmap='jet', interpolation='nearest', vmin=min_val, vmax=max_val)\n",
    "plt.colorbar()\n",
    "fig.savefig(str(0)+'.png', dpi=fig.dpi)\n",
    "#plt.show()"
   ]
  },
  {
   "cell_type": "code",
   "execution_count": 154,
   "metadata": {},
   "outputs": [
    {
     "name": "stdout",
     "output_type": "stream",
     "text": [
      "<class 'numpy.ma.core.MaskedArray'>\n",
      "-1.0\n"
     ]
    }
   ],
   "source": [
    "print type(tec2d_inv)\n",
    "tec2d_filtered = medfilt2d(tec2d_inv, 7)\n",
    "print np.min(tec2d_filtered)\n",
    "tec2d_filt_masked = np.ma.masked_where(tec2d_filtered <= -1, tec2d_filtered)"
   ]
  },
  {
   "cell_type": "code",
   "execution_count": 155,
   "metadata": {},
   "outputs": [
    {
     "data": {
      "image/png": "[encoded data removed]",
      "text/plain": [
       "<Figure size 1008x720 with 2 Axes>"
      ]
     },
     "metadata": {},
     "output_type": "display_data"
    }
   ],
   "source": [
    "#plotting the TEC map \n",
    "fig, ax = plt.subplots(1,1, figsize=(14, 10))\n",
    "x = list(range(225, 360, 25)) + list(range(0, 35, 15)) \n",
    "y = list(range(15, 100, 10))\n",
    "ax.set_xticklabels(tuple(x))\n",
    "ax.set_yticklabels(y[::-1])\n",
    "plt.imshow(tec2d_filt_masked, cmap='jet', interpolation='nearest', vmin=min_val, vmax=max_val)\n",
    "plt.colorbar()\n",
    "fig.savefig('filter7.png', dpi=fig.dpi)\n",
    "#plt.show()"
   ]
  },
  {
   "cell_type": "code",
   "execution_count": 143,
   "metadata": {
    "scrolled": true
   },
   "outputs": [
    {
     "data": {
      "text/plain": [
       "256"
      ]
     },
     "execution_count": 143,
     "metadata": {},
     "output_type": "execute_result"
    }
   ],
   "source": [
    "#command to take the plots and convert it into a movie\n",
    "import os\n",
    "os.system(\"ffmpeg -r 1 -i img%01d.png -vcodec mpeg4 -y movie.mp4\")"
   ]
  }
 ],
 "metadata": {
  "kernelspec": {
   "display_name": "Python 2",
   "language": "python",
   "name": "python2"
  },
  "language_info": {
   "codemirror_mode": {
    "name": "ipython",
    "version": 2
   },
   "file_extension": ".py",
   "mimetype": "text/x-python",
   "name": "python",
   "nbconvert_exporter": "python",
   "pygments_lexer": "ipython2",
   "version": "2.7.12"
  }
 },
 "nbformat": 4,
 "nbformat_minor": 2
}
